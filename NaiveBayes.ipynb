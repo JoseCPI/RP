{
 "cells": [
  {
   "cell_type": "code",
   "execution_count": 12,
   "metadata": {
    "collapsed": true
   },
   "outputs": [],
   "source": [
    "# Inicializar el ambiente\n",
    "import numpy as np\n",
    "import pandas as pd\n",
    "from sklearn.naive_bayes import GaussianNB, MultinomialNB, BernoulliNB\n",
    "from sklearn import cluster # Auxiliar\n",
    "from matplotlib import pyplot as plt\n",
    "from mpl_toolkits.mplot3d import Axes3D\n",
    "%matplotlib inline\n",
    "np.set_printoptions(precision=2, suppress=True) # Cortar la impresión de decimales a 1\n",
    "\n",
    "\n",
    "df = pd.read_csv('numeric_vgsales.csv')\n",
    "del df['Unnamed: 0']\n",
    "df = df.dropna()\n",
    "\n",
    "df_pure = df[list(['Platform', 'Year', 'Genre', 'Publisher'])]\n",
    "df_class = df[list(['Exito'])]"
   ]
  },
  {
   "cell_type": "code",
   "execution_count": 11,
   "metadata": {},
   "outputs": [
    {
     "name": "stdout",
     "output_type": "stream",
     "text": [
      "Puntos mal clasificados en el conjunto completo: 5078 de 11861 (42.812579040553075%)\n",
      "\n",
      "Puntos mal clasificados en el conjunto de entrenamiento: 351 de 7906 (4.439666076397673%)\n",
      "\n",
      "Puntos mal clasificados en el conjunto de prueba: 2639 de 3955 (66.72566371681415%)\n",
      "\n"
     ]
    }
   ],
   "source": [
    "\n",
    "\n",
    "cut = df.shape[0] // 3 * 2\n",
    "\n",
    "complete_set = df_pure.values\n",
    "complete_targets = df_class.values.ravel()\n",
    "train_set = df_pure.head(cut).values\n",
    "train_targets = df_class.head(cut).values.ravel()\n",
    "test_set = df_pure.tail(df.shape[0]-cut).values\n",
    "test_targets = df_class.tail(df.shape[0]-cut).values.ravel()\n",
    "\n",
    "clf = GaussianNB()\n",
    "clf.fit(complete_set, complete_targets)\n",
    "class_complete = clf.predict(complete_set)\n",
    "fails_complete = np.sum(complete_targets  != class_complete)\n",
    "print(\"Puntos mal clasificados en el conjunto completo: {} de {} ({}%)\\n\"\n",
    "      .format(fails_complete, len(complete_set), 100*fails_complete/len(complete_set)))\n",
    "\n",
    "clf.fit(train_set, train_targets)\n",
    "class_predict_train = clf.predict(train_set)\n",
    "fails_train = np.sum(train_targets  != class_predict_train)\n",
    "print(\"Puntos mal clasificados en el conjunto de entrenamiento: {} de {} ({}%)\\n\"\n",
    "      .format(fails_train, len(train_set), 100*fails_train/len(train_set)))\n",
    "\n",
    "class_predict_test = clf.predict(test_set)\n",
    "fails_test = np.sum(test_targets  != class_predict_test)\n",
    "print(\"Puntos mal clasificados en el conjunto de prueba: {} de {} ({}%)\\n\"\n",
    "      .format(fails_test, len(test_set), 100*fails_test/len(test_set)))\n",
    "\n"
   ]
  },
  {
   "cell_type": "code",
   "execution_count": null,
   "metadata": {
    "collapsed": true
   },
   "outputs": [],
   "source": []
  }
 ],
 "metadata": {
  "kernelspec": {
   "display_name": "Python 3",
   "language": "python",
   "name": "python3"
  },
  "language_info": {
   "codemirror_mode": {
    "name": "ipython",
    "version": 3
   },
   "file_extension": ".py",
   "mimetype": "text/x-python",
   "name": "python",
   "nbconvert_exporter": "python",
   "pygments_lexer": "ipython3",
   "version": "3.6.1"
  }
 },
 "nbformat": 4,
 "nbformat_minor": 2
}
