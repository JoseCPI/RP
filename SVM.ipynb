{
 "cells": [
  {
   "cell_type": "code",
   "execution_count": 1,
   "metadata": {
    "collapsed": true
   },
   "outputs": [],
   "source": [
    "import numpy as np\n",
    "import pandas as pd\n",
    "from sklearn.model_selection import train_test_split\n",
    "from sklearn.svm import SVC, LinearSVC\n",
    "import os\n",
    "import time\n",
    "from IPython.display import display\n"
   ]
  },
  {
   "cell_type": "code",
   "execution_count": 2,
   "metadata": {
    "collapsed": true
   },
   "outputs": [],
   "source": [
    "df = pd.read_csv('numeric_vgsales.csv')\n",
    "df_pure = df[list(['Platform', 'Year', 'Genre', 'Publisher'])]\n",
    "df_class = df[list(['Exito'])]"
   ]
  },
  {
   "cell_type": "code",
   "execution_count": 19,
   "metadata": {
    "collapsed": true
   },
   "outputs": [],
   "source": [
    "X_trainPID, X_testPID, y_trainPID, y_testPID = train_test_split(\n",
    "    df_pure.values, df_class.values.ravel(), test_size=.2)"
   ]
  },
  {
   "cell_type": "code",
   "execution_count": 4,
   "metadata": {},
   "outputs": [
    {
     "name": "stdout",
     "output_type": "stream",
     "text": [
      "SVM Lineal, C=1 (default)\n",
      "Puntos mal clasificados (entrenamiento): 2365 de 9488 (24.926222596964585%)       \n",
      "Puntos mal clasificados (prueba): 625 de 2373 (26.33796881584492%)       \n",
      "Aciertos del 73.66203118415507%\n",
      "Tiempo: 0.33539700508117676\n",
      "\n"
     ]
    }
   ],
   "source": [
    "svmLineal = LinearSVC()\n",
    "start_time = time.time()\n",
    "svmLineal.fit(X_trainPID, y_trainPID)\n",
    "elapsed_time = time.time() - start_time\n",
    "\n",
    "preds_train_Lineal = svmLineal.predict(X_trainPID)\n",
    "fails_train_Lineal = np.sum(y_trainPID != preds_train_Lineal)\n",
    "\n",
    "preds_Lineal = svmLineal.predict(X_testPID)\n",
    "fails_Lineal = np.sum(y_testPID != preds_Lineal)\n",
    "\n",
    "print(\"SVM Lineal, C=1 (default)\\nPuntos mal clasificados (entrenamiento): {} de {} ({}%)\\\n",
    "       \\nPuntos mal clasificados (prueba): {} de {} ({}%)\\\n",
    "       \\nAciertos del {}%\\nTiempo: {}\\n\"\n",
    "      .format(fails_train_Lineal, len(y_trainPID), 100*fails_train_Lineal/len(y_trainPID),\n",
    "              fails_Lineal, len(y_testPID), 100*fails_Lineal/len(y_testPID), \n",
    "              svmLineal.score(X_testPID, y_testPID)*100, elapsed_time))"
   ]
  },
  {
   "cell_type": "code",
   "execution_count": 12,
   "metadata": {},
   "outputs": [
    {
     "name": "stdout",
     "output_type": "stream",
     "text": [
      "SVM Lineal, C= (default)\n",
      "Puntos mal clasificados (entrenamiento): 2382 de 9488 (25.10539629005059%)       \n",
      "Puntos mal clasificados (prueba): 608 de 2373 (25.62157606405394%)       \n",
      "Aciertos del 74.37842393594606%\n",
      "Tiempo: 0.7500295639038086\n",
      "\n"
     ]
    }
   ],
   "source": [
    "svmLineal = LinearSVC(C=100.0)\n",
    "start_time = time.time()\n",
    "svmLineal.fit(X_trainPID, y_trainPID)\n",
    "elapsed_time = time.time() - start_time\n",
    "\n",
    "preds_train_Lineal = svmLineal.predict(X_trainPID)\n",
    "fails_train_Lineal = np.sum(y_trainPID != preds_train_Lineal)\n",
    "\n",
    "preds_Lineal = svmLineal.predict(X_testPID)\n",
    "fails_Lineal = np.sum(y_testPID != preds_Lineal)\n",
    "\n",
    "print(\"SVM Lineal, C= (default)\\nPuntos mal clasificados (entrenamiento): {} de {} ({}%)\\\n",
    "       \\nPuntos mal clasificados (prueba): {} de {} ({}%)\\\n",
    "       \\nAciertos del {}%\\nTiempo: {}\\n\"\n",
    "      .format(fails_train_Lineal, len(y_trainPID), 100*fails_train_Lineal/len(y_trainPID),\n",
    "              fails_Lineal, len(y_testPID), 100*fails_Lineal/len(y_testPID), \n",
    "              svmLineal.score(X_testPID, y_testPID)*100, elapsed_time))"
   ]
  },
  {
   "cell_type": "markdown",
   "metadata": {},
   "source": [
    "A continuacion usaremos ahora un modelo de Kernel radial"
   ]
  },
  {
   "cell_type": "code",
   "execution_count": 14,
   "metadata": {},
   "outputs": [
    {
     "name": "stdout",
     "output_type": "stream",
     "text": [
      "SVM RBF, C=1.0\n",
      "Puntos mal clasificados (entrenamiento): 2378 de 9488 (25.063237774030355%)       \n",
      "Puntos mal clasificados (prueba): 612 de 2373 (25.790139064475348%)       \n",
      "Aciertos del 74.20986093552465%\n",
      "Tiempo: 1.3792262077331543\n",
      "\n"
     ]
    }
   ],
   "source": [
    "svmRbf = SVC(kernel='rbf')\n",
    "start_time = time.time()\n",
    "svmRbf.fit(X_trainPID, y_trainPID)\n",
    "elapsed_time = time.time() - start_time\n",
    "\n",
    "preds_train_Rbf = svmRbf.predict(X_trainPID)\n",
    "fails_train_Rbf = np.sum(y_trainPID != preds_train_Rbf)\n",
    "\n",
    "preds_Rbf = svmRbf.predict(X_testPID)\n",
    "fails_Rbf = np.sum(y_testPID != preds_Rbf)\n",
    "\n",
    "print(\"SVM RBF, C=1.0\\nPuntos mal clasificados (entrenamiento): {} de {} ({}%)\\\n",
    "       \\nPuntos mal clasificados (prueba): {} de {} ({}%)\\\n",
    "       \\nAciertos del {}%\\nTiempo: {}\\n\"\n",
    "      .format(fails_train_Rbf, len(y_trainPID), 100*fails_train_Rbf/len(y_trainPID),\n",
    "              fails_Rbf, len(y_testPID), 100*fails_Rbf/len(y_testPID), \n",
    "              svmRbf.score(X_testPID, y_testPID)*100, elapsed_time))"
   ]
  },
  {
   "cell_type": "code",
   "execution_count": 16,
   "metadata": {},
   "outputs": [
    {
     "name": "stdout",
     "output_type": "stream",
     "text": [
      "SVM RBF, C=50.0\n",
      "Puntos mal clasificados (entrenamiento): 2437 de 9488 (25.685075885328835%)       \n",
      "Puntos mal clasificados (prueba): 553 de 2373 (23.303834808259587%)       \n",
      "Aciertos del 76.69616519174042%\n",
      "Tiempo: 1.523871898651123\n",
      "\n"
     ]
    }
   ],
   "source": [
    "svmRbf = SVC(kernel='rbf', C=50)\n",
    "start_time = time.time()\n",
    "svmRbf.fit(X_trainPID, y_trainPID)\n",
    "elapsed_time = time.time() - start_time\n",
    "\n",
    "preds_train_Rbf = svmRbf.predict(X_trainPID)\n",
    "fails_train_Rbf = np.sum(y_trainPID != preds_train_Rbf)\n",
    "\n",
    "preds_Rbf = svmRbf.predict(X_testPID)\n",
    "fails_Rbf = np.sum(y_testPID != preds_Rbf)\n",
    "\n",
    "print(\"SVM RBF, C=50.0\\nPuntos mal clasificados (entrenamiento): {} de {} ({}%)\\\n",
    "       \\nPuntos mal clasificados (prueba): {} de {} ({}%)\\\n",
    "       \\nAciertos del {}%\\nTiempo: {}\\n\"\n",
    "      .format(fails_train_Rbf, len(y_trainPID), 100*fails_train_Rbf/len(y_trainPID),\n",
    "              fails_Rbf, len(y_testPID), 100*fails_Rbf/len(y_testPID), \n",
    "              svmRbf.score(X_testPID, y_testPID)*100, elapsed_time))"
   ]
  },
  {
   "cell_type": "code",
   "execution_count": 18,
   "metadata": {},
   "outputs": [
    {
     "name": "stdout",
     "output_type": "stream",
     "text": [
      "SVM RBF, C=500\n",
      "Puntos mal clasificados (entrenamiento): 2409 de 9488 (25.389966273187184%)       \n",
      "Puntos mal clasificados (prueba): 581 de 2373 (24.48377581120944%)       \n",
      "Aciertos del 75.51622418879056%\n",
      "Tiempo: 2.2922396659851074\n",
      "\n"
     ]
    }
   ],
   "source": [
    "svmRbf = SVC(kernel='rbf', C=500, gamma=0.1)\n",
    "start_time = time.time()\n",
    "svmRbf.fit(X_trainPID, y_trainPID)\n",
    "elapsed_time = time.time() - start_time\n",
    "\n",
    "preds_train_Rbf = svmRbf.predict(X_trainPID)\n",
    "fails_train_Rbf = np.sum(y_trainPID != preds_train_Rbf)\n",
    "\n",
    "preds_Rbf = svmRbf.predict(X_testPID)\n",
    "fails_Rbf = np.sum(y_testPID != preds_Rbf)\n",
    "\n",
    "print(\"SVM RBF, C=500\\nPuntos mal clasificados (entrenamiento): {} de {} ({}%)\\\n",
    "       \\nPuntos mal clasificados (prueba): {} de {} ({}%)\\\n",
    "       \\nAciertos del {}%\\nTiempo: {}\\n\"\n",
    "      .format(fails_train_Rbf, len(y_trainPID), 100*fails_train_Rbf/len(y_trainPID),\n",
    "              fails_Rbf, len(y_testPID), 100*fails_Rbf/len(y_testPID), \n",
    "              svmRbf.score(X_testPID, y_testPID)*100, elapsed_time))"
   ]
  },
  {
   "cell_type": "markdown",
   "metadata": {
    "collapsed": true
   },
   "source": [
    "Ahora usaremo la funcion de kernel sigmoid"
   ]
  },
  {
   "cell_type": "code",
   "execution_count": 20,
   "metadata": {},
   "outputs": [
    {
     "name": "stdout",
     "output_type": "stream",
     "text": [
      "Video Juegos\n",
      "SVM Sigmoide, C=1.0\n",
      "Puntos mal clasificados (entrenamiento): 2400 de 9488 (25.29510961214165%)       \n",
      "Puntos mal clasificados (prueba): 590 de 2373 (24.863042562157606%)       \n",
      "Aciertos del 75.13695743784238%\n",
      "Tiempo: 1.285463809967041\n",
      "\n"
     ]
    }
   ],
   "source": [
    "\n",
    "\n",
    "svmSgm = SVC(kernel='sigmoid')\n",
    "start_time = time.time()\n",
    "svmSgm.fit(X_trainPID, y_trainPID)\n",
    "elapsed_time = time.time() - start_time\n",
    "\n",
    "preds_train_Sgm = svmSgm.predict(X_trainPID)\n",
    "fails_train_Sgm = np.sum(y_trainPID != preds_train_Sgm)\n",
    "\n",
    "preds_Sgm = svmSgm.predict(X_testPID)\n",
    "fails_Sgm = np.sum(y_testPID != preds_Sgm)\n",
    "\n",
    "print(\"Video Juegos\\nSVM Sigmoide, C=1.0\\nPuntos mal clasificados (entrenamiento): {} de {} ({}%)\\\n",
    "       \\nPuntos mal clasificados (prueba): {} de {} ({}%)\\\n",
    "       \\nAciertos del {}%\\nTiempo: {}\\n\"\n",
    "      .format(fails_train_Sgm, len(y_trainPID), 100*fails_train_Sgm/len(y_trainPID),\n",
    "              fails_Sgm, len(y_testPID), 100*fails_Sgm/len(y_testPID), \n",
    "              svmSgm.score(X_testPID, y_testPID)*100, elapsed_time))\n",
    "\n"
   ]
  },
  {
   "cell_type": "markdown",
   "metadata": {},
   "source": [
    "En estos datos se hicieron repetidas pruebas en los distintos datos y siempre dio un error entre 24% y 26%"
   ]
  },
  {
   "cell_type": "code",
   "execution_count": null,
   "metadata": {
    "collapsed": true
   },
   "outputs": [],
   "source": []
  }
 ],
 "metadata": {
  "kernelspec": {
   "display_name": "Python 3",
   "language": "python",
   "name": "python3"
  },
  "language_info": {
   "codemirror_mode": {
    "name": "ipython",
    "version": 3
   },
   "file_extension": ".py",
   "mimetype": "text/x-python",
   "name": "python",
   "nbconvert_exporter": "python",
   "pygments_lexer": "ipython3",
   "version": "3.6.1"
  }
 },
 "nbformat": 4,
 "nbformat_minor": 2
}
