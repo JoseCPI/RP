{
 "cells": [
  {
   "cell_type": "code",
   "execution_count": 37,
   "metadata": {
    "collapsed": true
   },
   "outputs": [],
   "source": [
    "import numpy as np\n",
    "import pandas as pd\n",
    "from sklearn.model_selection import train_test_split\n",
    "from sklearn.svm import SVC, LinearSVC\n",
    "import os\n",
    "import time\n",
    "from IPython.display import display\n"
   ]
  },
  {
   "cell_type": "code",
   "execution_count": 41,
   "metadata": {
    "collapsed": true
   },
   "outputs": [],
   "source": [
    "df = pd.read_csv('numeric_vgsales.csv')\n",
    "df_pure = df[list(['Platform', 'Year', 'Genre', 'Publisher'])]\n",
    "df_class = df[list(['Exito'])]"
   ]
  },
  {
   "cell_type": "code",
   "execution_count": 42,
   "metadata": {
    "collapsed": true
   },
   "outputs": [],
   "source": [
    "X_trainPID, X_testPID, y_trainPID, y_testPID = train_test_split(\n",
    "    df_pure.values, df_class.values.ravel(), test_size=.2)"
   ]
  },
  {
   "cell_type": "code",
   "execution_count": 32,
   "metadata": {},
   "outputs": [
    {
     "name": "stdout",
     "output_type": "stream",
     "text": [
      "SVM Lineal, C=1 (default)\n",
      "Puntos mal clasificados (entrenamiento): 2397 de 9488 (25.263490725126477%)       \n",
      "Puntos mal clasificados (prueba): 593 de 2373 (24.989464812473663%)       \n",
      "Aciertos del 75.01053518752634%\n",
      "Tiempo: 0.03052377700805664\n",
      "\n"
     ]
    }
   ],
   "source": [
    "svmLineal = LinearSVC()\n",
    "start_time = time.time()\n",
    "svmLineal.fit(X_trainPID, y_trainPID)\n",
    "elapsed_time = time.time() - start_time\n",
    "\n",
    "preds_train_Lineal = svmLineal.predict(X_trainPID)\n",
    "fails_train_Lineal = np.sum(y_trainPID != preds_train_Lineal)\n",
    "\n",
    "preds_Lineal = svmLineal.predict(X_testPID)\n",
    "fails_Lineal = np.sum(y_testPID != preds_Lineal)\n",
    "\n",
    "print(\"SVM Lineal, C=1 (default)\\nPuntos mal clasificados (entrenamiento): {} de {} ({}%)\\\n",
    "       \\nPuntos mal clasificados (prueba): {} de {} ({}%)\\\n",
    "       \\nAciertos del {}%\\nTiempo: {}\\n\"\n",
    "      .format(fails_train_Lineal, len(y_trainPID), 100*fails_train_Lineal/len(y_trainPID),\n",
    "              fails_Lineal, len(y_testPID), 100*fails_Lineal/len(y_testPID), \n",
    "              svmLineal.score(X_testPID, y_testPID)*100, elapsed_time))"
   ]
  },
  {
   "cell_type": "code",
   "execution_count": 5,
   "metadata": {},
   "outputs": [
    {
     "name": "stdout",
     "output_type": "stream",
     "text": [
      "SVM Lineal, C= (default)\n",
      "Puntos mal clasificados (entrenamiento): 2409 de 9488 (25.389966273187184%)       \n",
      "Puntos mal clasificados (prueba): 581 de 2373 (24.48377581120944%)       \n",
      "Aciertos del 75.51622418879056%\n",
      "Tiempo: 0.5288922786712646\n",
      "\n"
     ]
    }
   ],
   "source": [
    "svmLineal = LinearSVC(C=100.0)\n",
    "start_time = time.time()\n",
    "svmLineal.fit(X_trainPID, y_trainPID)\n",
    "elapsed_time = time.time() - start_time\n",
    "\n",
    "preds_train_Lineal = svmLineal.predict(X_trainPID)\n",
    "fails_train_Lineal = np.sum(y_trainPID != preds_train_Lineal)\n",
    "\n",
    "preds_Lineal = svmLineal.predict(X_testPID)\n",
    "fails_Lineal = np.sum(y_testPID != preds_Lineal)\n",
    "\n",
    "print(\"SVM Lineal, C= (default)\\nPuntos mal clasificados (entrenamiento): {} de {} ({}%)\\\n",
    "       \\nPuntos mal clasificados (prueba): {} de {} ({}%)\\\n",
    "       \\nAciertos del {}%\\nTiempo: {}\\n\"\n",
    "      .format(fails_train_Lineal, len(y_trainPID), 100*fails_train_Lineal/len(y_trainPID),\n",
    "              fails_Lineal, len(y_testPID), 100*fails_Lineal/len(y_testPID), \n",
    "              svmLineal.score(X_testPID, y_testPID)*100, elapsed_time))"
   ]
  },
  {
   "cell_type": "markdown",
   "metadata": {},
   "source": [
    "A continuacion usaremos ahora un modelo de Kernel radial"
   ]
  },
  {
   "cell_type": "code",
   "execution_count": 36,
   "metadata": {},
   "outputs": [
    {
     "name": "stdout",
     "output_type": "stream",
     "text": [
      "SVM RBF, C=1.0\n",
      "Puntos mal clasificados (entrenamiento): 2363 de 9488 (24.90514333895447%)       \n",
      "Puntos mal clasificados (prueba): 627 de 2373 (26.422250316055624%)       \n",
      "Aciertos del 73.57774968394438%\n",
      "Tiempo: 1.3205251693725586\n",
      "\n"
     ]
    }
   ],
   "source": [
    "svmRbf = SVC(kernel='rbf')\n",
    "start_time = time.time()\n",
    "svmRbf.fit(X_trainPID, y_trainPID)\n",
    "elapsed_time = time.time() - start_time\n",
    "\n",
    "preds_train_Rbf = svmRbf.predict(X_trainPID)\n",
    "fails_train_Rbf = np.sum(y_trainPID != preds_train_Rbf)\n",
    "\n",
    "preds_Rbf = svmRbf.predict(X_testPID)\n",
    "fails_Rbf = np.sum(y_testPID != preds_Rbf)\n",
    "\n",
    "print(\"SVM RBF, C=1.0\\nPuntos mal clasificados (entrenamiento): {} de {} ({}%)\\\n",
    "       \\nPuntos mal clasificados (prueba): {} de {} ({}%)\\\n",
    "       \\nAciertos del {}%\\nTiempo: {}\\n\"\n",
    "      .format(fails_train_Rbf, len(y_trainPID), 100*fails_train_Rbf/len(y_trainPID),\n",
    "              fails_Rbf, len(y_testPID), 100*fails_Rbf/len(y_testPID), \n",
    "              svmRbf.score(X_testPID, y_testPID)*100, elapsed_time))"
   ]
  },
  {
   "cell_type": "code",
   "execution_count": 40,
   "metadata": {},
   "outputs": [
    {
     "name": "stdout",
     "output_type": "stream",
     "text": [
      "SVM RBF, C=50.0\n",
      "Puntos mal clasificados (entrenamiento): 2351 de 9488 (24.77866779089376%)       \n",
      "Puntos mal clasificados (prueba): 639 de 2373 (26.927939317319847%)       \n",
      "Aciertos del 73.07206068268015%\n",
      "Tiempo: 1.2900362014770508\n",
      "\n"
     ]
    }
   ],
   "source": [
    "svmRbf = SVC(kernel='rbf', C=50)\n",
    "start_time = time.time()\n",
    "svmRbf.fit(X_trainPID, y_trainPID)\n",
    "elapsed_time = time.time() - start_time\n",
    "\n",
    "preds_train_Rbf = svmRbf.predict(X_trainPID)\n",
    "fails_train_Rbf = np.sum(y_trainPID != preds_train_Rbf)\n",
    "\n",
    "preds_Rbf = svmRbf.predict(X_testPID)\n",
    "fails_Rbf = np.sum(y_testPID != preds_Rbf)\n",
    "\n",
    "print(\"SVM RBF, C=50.0\\nPuntos mal clasificados (entrenamiento): {} de {} ({}%)\\\n",
    "       \\nPuntos mal clasificados (prueba): {} de {} ({}%)\\\n",
    "       \\nAciertos del {}%\\nTiempo: {}\\n\"\n",
    "      .format(fails_train_Rbf, len(y_trainPID), 100*fails_train_Rbf/len(y_trainPID),\n",
    "              fails_Rbf, len(y_testPID), 100*fails_Rbf/len(y_testPID), \n",
    "              svmRbf.score(X_testPID, y_testPID)*100, elapsed_time))"
   ]
  },
  {
   "cell_type": "code",
   "execution_count": 8,
   "metadata": {},
   "outputs": [
    {
     "name": "stdout",
     "output_type": "stream",
     "text": [
      "SVM RBF, C=500\n",
      "Puntos mal clasificados (entrenamiento): 2409 de 9488 (25.389966273187184%)       \n",
      "Puntos mal clasificados (prueba): 581 de 2373 (24.48377581120944%)       \n",
      "Aciertos del 75.51622418879056%\n",
      "Tiempo: 2.1861495971679688\n",
      "\n"
     ]
    }
   ],
   "source": [
    "svmRbf = SVC(kernel='rbf', C=500, gamma=0.1)\n",
    "start_time = time.time()\n",
    "svmRbf.fit(X_trainPID, y_trainPID)\n",
    "elapsed_time = time.time() - start_time\n",
    "\n",
    "preds_train_Rbf = svmRbf.predict(X_trainPID)\n",
    "fails_train_Rbf = np.sum(y_trainPID != preds_train_Rbf)\n",
    "\n",
    "preds_Rbf = svmRbf.predict(X_testPID)\n",
    "fails_Rbf = np.sum(y_testPID != preds_Rbf)\n",
    "\n",
    "print(\"SVM RBF, C=500\\nPuntos mal clasificados (entrenamiento): {} de {} ({}%)\\\n",
    "       \\nPuntos mal clasificados (prueba): {} de {} ({}%)\\\n",
    "       \\nAciertos del {}%\\nTiempo: {}\\n\"\n",
    "      .format(fails_train_Rbf, len(y_trainPID), 100*fails_train_Rbf/len(y_trainPID),\n",
    "              fails_Rbf, len(y_testPID), 100*fails_Rbf/len(y_testPID), \n",
    "              svmRbf.score(X_testPID, y_testPID)*100, elapsed_time))"
   ]
  },
  {
   "cell_type": "code",
   "execution_count": null,
   "metadata": {
    "collapsed": true
   },
   "outputs": [],
   "source": [
    "Ahora usaremo la funcion de kernel sigmoid"
   ]
  },
  {
   "cell_type": "code",
   "execution_count": 43,
   "metadata": {},
   "outputs": [
    {
     "name": "stdout",
     "output_type": "stream",
     "text": [
      "Diabetes\n",
      "SVM Sigmoide, C=1.0\n",
      "Puntos mal clasificados (entrenamiento): 2412 de 9488 (25.421585160202362%)       \n",
      "Puntos mal clasificados (prueba): 578 de 2373 (24.357353560893383%)       \n",
      "Aciertos del 75.64264643910661%\n",
      "Tiempo: 1.2799923419952393\n",
      "\n"
     ]
    }
   ],
   "source": [
    "\n",
    "\n",
    "svmSgm = SVC(kernel='sigmoid')\n",
    "start_time = time.time()\n",
    "svmSgm.fit(X_trainPID, y_trainPID)\n",
    "elapsed_time = time.time() - start_time\n",
    "\n",
    "preds_train_Sgm = svmSgm.predict(X_trainPID)\n",
    "fails_train_Sgm = np.sum(y_trainPID != preds_train_Sgm)\n",
    "\n",
    "preds_Sgm = svmSgm.predict(X_testPID)\n",
    "fails_Sgm = np.sum(y_testPID != preds_Sgm)\n",
    "\n",
    "print(\"Video Juegos\\nSVM Sigmoide, C=1.0\\nPuntos mal clasificados (entrenamiento): {} de {} ({}%)\\\n",
    "       \\nPuntos mal clasificados (prueba): {} de {} ({}%)\\\n",
    "       \\nAciertos del {}%\\nTiempo: {}\\n\"\n",
    "      .format(fails_train_Sgm, len(y_trainPID), 100*fails_train_Sgm/len(y_trainPID),\n",
    "              fails_Sgm, len(y_testPID), 100*fails_Sgm/len(y_testPID), \n",
    "              svmSgm.score(X_testPID, y_testPID)*100, elapsed_time))\n",
    "\n"
   ]
  },
  {
   "cell_type": "markdown",
   "metadata": {},
   "source": [
    "En estos datos se hicieron repetidas pruebas en los distintos datos y siempre dio un error entre 24& y 26%"
   ]
  },
  {
   "cell_type": "code",
   "execution_count": null,
   "metadata": {
    "collapsed": true
   },
   "outputs": [],
   "source": []
  }
 ],
 "metadata": {
  "kernelspec": {
   "display_name": "Python 3",
   "language": "python",
   "name": "python3"
  },
  "language_info": {
   "codemirror_mode": {
    "name": "ipython",
    "version": 3
   },
   "file_extension": ".py",
   "mimetype": "text/x-python",
   "name": "python",
   "nbconvert_exporter": "python",
   "pygments_lexer": "ipython3",
   "version": "3.6.1"
  }
 },
 "nbformat": 4,
 "nbformat_minor": 2
}
